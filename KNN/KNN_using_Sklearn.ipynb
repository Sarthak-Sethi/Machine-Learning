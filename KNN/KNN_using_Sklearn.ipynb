{
 "cells": [
  {
   "cell_type": "markdown",
   "metadata": {},
   "source": [
    "### Handling imports"
   ]
  },
  {
   "cell_type": "code",
   "execution_count": 1,
   "metadata": {},
   "outputs": [],
   "source": [
    "from sklearn import datasets\n",
    "from sklearn.neighbors import KNeighborsClassifier\n",
    "from sklearn.model_selection import train_test_split"
   ]
  },
  {
   "cell_type": "markdown",
   "metadata": {},
   "source": [
    "### Fetching Data"
   ]
  },
  {
   "cell_type": "code",
   "execution_count": 2,
   "metadata": {},
   "outputs": [],
   "source": [
    "data = datasets.load_breast_cancer()"
   ]
  },
  {
   "cell_type": "code",
   "execution_count": 17,
   "metadata": {},
   "outputs": [],
   "source": [
    "iris = datasets.load_iris()"
   ]
  },
  {
   "cell_type": "markdown",
   "metadata": {},
   "source": [
    "### Splitting data"
   ]
  },
  {
   "cell_type": "code",
   "execution_count": 3,
   "metadata": {},
   "outputs": [],
   "source": [
    "xtrain,xtest,ytrain,ytest = train_test_split(data.data,data.target,random_state=1)"
   ]
  },
  {
   "cell_type": "code",
   "execution_count": 18,
   "metadata": {},
   "outputs": [],
   "source": [
    "xtrain_iris,xtest_iris,ytrain_iris,ytest_iris = train_test_split(iris.data,iris.target,random_state=1)"
   ]
  },
  {
   "cell_type": "markdown",
   "metadata": {},
   "source": [
    "### Using sklearn KNN"
   ]
  },
  {
   "cell_type": "code",
   "execution_count": 14,
   "metadata": {},
   "outputs": [
    {
     "data": {
      "text/plain": [
       "KNeighborsClassifier()"
      ]
     },
     "execution_count": 14,
     "metadata": {},
     "output_type": "execute_result"
    }
   ],
   "source": [
    "clf = KNeighborsClassifier()\n",
    "clf.fit(xtrain,ytrain)"
   ]
  },
  {
   "cell_type": "markdown",
   "metadata": {},
   "source": [
    "### Our Algorithm scored 93 percent on the testing data"
   ]
  },
  {
   "cell_type": "code",
   "execution_count": 15,
   "metadata": {},
   "outputs": [
    {
     "data": {
      "text/plain": [
       "0.9370629370629371"
      ]
     },
     "execution_count": 15,
     "metadata": {},
     "output_type": "execute_result"
    }
   ],
   "source": [
    "clf.score(xtest,ytest)"
   ]
  },
  {
   "cell_type": "markdown",
   "metadata": {},
   "source": [
    "# cross_validation\n",
    "see notes for theory in copy <br>\n",
    "WE split the training data in k parts and train using k-1 parts and test on the k^th part <br>\n",
    "this is done k times for all parts and then avg is taken"
   ]
  },
  {
   "cell_type": "code",
   "execution_count": 20,
   "metadata": {},
   "outputs": [
    {
     "data": {
      "text/plain": [
       "array([0.95652174, 0.95652174, 0.95454545, 0.95454545, 0.86363636])"
      ]
     },
     "execution_count": 20,
     "metadata": {},
     "output_type": "execute_result"
    }
   ],
   "source": [
    "from sklearn.model_selection import cross_val_score\n",
    "clf = KNeighborsClassifier()\n",
    "cross_val_score(clf,xtrain_iris,ytrain_iris)"
   ]
  },
  {
   "cell_type": "markdown",
   "metadata": {},
   "source": [
    "### Why 0 score ?\n",
    "First we have imported cross val score and then K fold now  <br>\n",
    "when we get the cross_ well score with the <b>number of splits</b> = 3  <br>\n",
    "kFold(n_splits,shuffle,randome_state) <br>\n",
    "we get 0  because  we are working upon the Iris data and there are only three outcomes in the Iris data  which means that the first 50 belongs to the first flower next 50  belongs to the next flower and the last 50 belongs to 3rd flower <br>\n",
    "so when we are splitting in 3 <br>\n",
    "Suppose 3 flowers are a , b and c <br>\n",
    "Now when we split in 3 with no shuffle as default shuffle is false <br>\n",
    "A and b pe train hota and c pe test <br>\n",
    "A andc pe train hota and b pe test <br>\n",
    "B and c pe train hota and a pe test<br>\n"
   ]
  },
  {
   "cell_type": "code",
   "execution_count": 23,
   "metadata": {},
   "outputs": [
    {
     "data": {
      "text/plain": [
       "array([0., 0., 0.])"
      ]
     },
     "execution_count": 23,
     "metadata": {},
     "output_type": "execute_result"
    }
   ],
   "source": [
    "from sklearn.model_selection import cross_val_score\n",
    "from sklearn.model_selection import KFold\n",
    "clf = KNeighborsClassifier()\n",
    "cross_val_score(clf,iris.data,iris.target,cv=KFold(3))"
   ]
  },
  {
   "cell_type": "markdown",
   "metadata": {},
   "source": [
    "# choosing optimal k"
   ]
  },
  {
   "cell_type": "markdown",
   "metadata": {},
   "source": [
    "see copy for chossing optimal k notes<br>\n",
    "since default split is 3 we will get <b>3 scores </b> in score we are prinitng mean with the i which represents <b>no of neighbours </b> <br>"
   ]
  },
  {
   "cell_type": "code",
   "execution_count": 8,
   "metadata": {},
   "outputs": [
    {
     "name": "stdout",
     "output_type": "stream",
     "text": [
      "1 0.9132147742818058\n",
      "2 0.9038303693570452\n",
      "3 0.9178932968536252\n",
      "4 0.9108344733242134\n",
      "5 0.9179480164158689\n",
      "6 0.9225991792065665\n",
      "7 0.9225444596443229\n",
      "8 0.9249247606019152\n",
      "9 0.9272777017783858\n",
      "10 0.9296306429548565\n",
      "11 0.927277701778386\n",
      "12 0.9296306429548565\n",
      "13 0.9319835841313271\n",
      "14 0.9273050615595076\n",
      "15 0.927277701778386\n",
      "16 0.927277701778386\n",
      "17 0.9249521203830371\n",
      "18 0.9249247606019153\n",
      "19 0.9201915184678523\n"
     ]
    }
   ],
   "source": [
    "from sklearn.model_selection import cross_val_score\n",
    "for i in range(1,20) :\n",
    "    clf = KNeighborsClassifier(n_neighbors=i)\n",
    "    score = cross_val_score(clf,xtrain,ytrain)\n",
    "    print(i,score.mean())"
   ]
  },
  {
   "cell_type": "markdown",
   "metadata": {},
   "source": [
    "### plotting graph of no of neighbours (i)  and score for visualisation \n",
    "same thing printed above"
   ]
  },
  {
   "cell_type": "code",
   "execution_count": 9,
   "metadata": {},
   "outputs": [
    {
     "data": {
      "image/png": "[encoded data removed]",
      "text/plain": [
       "<Figure size 432x288 with 1 Axes>"
      ]
     },
     "metadata": {
      "needs_background": "light"
     },
     "output_type": "display_data"
    }
   ],
   "source": [
    "import matplotlib.pyplot as plt\n",
    "x_axis = []\n",
    "y_axis = []\n",
    "for i in range(1,20) :\n",
    "    clf = KNeighborsClassifier(n_neighbors=i)\n",
    "    score = cross_val_score(clf,xtrain,ytrain)\n",
    "    x_axis.append(i)\n",
    "    y_axis.append(score.mean())\n",
    "\n",
    "plt.xlabel(\"no of neighbours\")\n",
    "plt.ylabel(\"score mean\")\n",
    "plt.title(\"choosing optimal k\")\n",
    "plt.grid()\n",
    "plt.plot(x_axis,y_axis)\n",
    "plt.show()\n",
    "    "
   ]
  },
  {
   "cell_type": "code",
   "execution_count": null,
   "metadata": {},
   "outputs": [],
   "source": []
  }
 ],
 "metadata": {
  "kernelspec": {
   "display_name": "Python 3",
   "language": "python",
   "name": "python3"
  },
  "language_info": {
   "codemirror_mode": {
    "name": "ipython",
    "version": 3
   },
   "file_extension": ".py",
   "mimetype": "text/x-python",
   "name": "python",
   "nbconvert_exporter": "python",
   "pygments_lexer": "ipython3",
   "version": "3.8.5"
  }
 },
 "nbformat": 4,
 "nbformat_minor": 4
}
