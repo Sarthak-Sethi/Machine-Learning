{
 "cells": [
  {
   "cell_type": "markdown",
   "metadata": {},
   "source": [
    "### Handling imports"
   ]
  },
  {
   "cell_type": "code",
   "execution_count": 1,
   "metadata": {},
   "outputs": [],
   "source": [
    "from sklearn import datasets\n",
    "from sklearn.model_selection import train_test_split\n",
    "from sklearn.neighbors import KNeighborsClassifier"
   ]
  },
  {
   "cell_type": "markdown",
   "metadata": {},
   "source": [
    "### fetching data and splitting"
   ]
  },
  {
   "cell_type": "code",
   "execution_count": 2,
   "metadata": {},
   "outputs": [],
   "source": [
    "data = datasets.load_breast_cancer()\n",
    "xtrain,xtest,ytrain,ytest = train_test_split(data.data,data.target,random_state=0)"
   ]
  },
  {
   "cell_type": "markdown",
   "metadata": {},
   "source": [
    "### choosing k\n",
    "see KNN_using_sklearn for ref"
   ]
  },
  {
   "cell_type": "code",
   "execution_count": 3,
   "metadata": {},
   "outputs": [
    {
     "name": "stdout",
     "output_type": "stream",
     "text": [
      "1 0.9200820793433653\n",
      "2 0.9224623803009576\n",
      "3 0.9271682626538988\n",
      "4 0.929466484268126\n",
      "5 0.9270861833105334\n",
      "6 0.9294391244870039\n",
      "7 0.9294664842681257\n",
      "8 0.936497948016416\n",
      "9 0.9341723666210668\n",
      "10 0.9388508891928863\n",
      "11 0.9341723666210668\n",
      "12 0.9341997264021888\n",
      "13 0.9341723666210671\n",
      "14 0.9388782489740082\n",
      "15 0.929466484268126\n",
      "16 0.929466484268126\n",
      "17 0.922435020519836\n",
      "18 0.9247879616963065\n",
      "19 0.9200820793433653\n"
     ]
    },
    {
     "data": {
      "image/png": "[encoded data removed]",
      "text/plain": [
       "<Figure size 432x288 with 1 Axes>"
      ]
     },
     "metadata": {
      "needs_background": "light"
     },
     "output_type": "display_data"
    }
   ],
   "source": [
    "import matplotlib.pyplot as plt\n",
    "from sklearn.model_selection import cross_val_score\n",
    "x_axis = []\n",
    "y_axis = []\n",
    "for i in range(1,20) :\n",
    "    clf = KNeighborsClassifier(n_neighbors=i)\n",
    "    score = cross_val_score(clf,xtrain,ytrain)\n",
    "    x_axis.append(i)\n",
    "    y_axis.append(score.mean())\n",
    "    print(i,score.mean())\n",
    "\n",
    "plt.xlabel(\"no of neighbours\")\n",
    "plt.ylabel(\"score mean\")\n",
    "plt.title(\"choosing optimal k\")\n",
    "plt.grid()\n",
    "plt.plot(x_axis,y_axis)\n",
    "plt.show()\n",
    "    "
   ]
  },
  {
   "cell_type": "markdown",
   "metadata": {},
   "source": [
    "### setting n_neighbours = 14 as we have seen we get best results when n = 14"
   ]
  },
  {
   "cell_type": "code",
   "execution_count": 4,
   "metadata": {},
   "outputs": [
    {
     "data": {
      "text/plain": [
       "KNeighborsClassifier(n_neighbors=14)"
      ]
     },
     "execution_count": 4,
     "metadata": {},
     "output_type": "execute_result"
    }
   ],
   "source": [
    "clf = KNeighborsClassifier(n_neighbors=14)\n",
    "clf.fit(xtrain,ytrain)"
   ]
  },
  {
   "cell_type": "code",
   "execution_count": 5,
   "metadata": {},
   "outputs": [
    {
     "data": {
      "text/plain": [
       "0.958041958041958"
      ]
     },
     "execution_count": 5,
     "metadata": {},
     "output_type": "execute_result"
    }
   ],
   "source": [
    "clf.score(xtest,ytest)"
   ]
  },
  {
   "cell_type": "markdown",
   "metadata": {},
   "source": [
    "# implementing own KNN\n",
    "\n"
   ]
  },
  {
   "cell_type": "markdown",
   "metadata": {},
   "source": [
    "we get xtrain row like [v1,v2,v3,v4....] and xtest is1 value in xtest that is v <br>\n",
    "euclid distance = diff of (xtrain - xtest)^2 <br>\n",
    "diff of (xtrain - xtest)^2 this returns an list and we will get its sum\n",
    "\n"
   ]
  },
  {
   "cell_type": "code",
   "execution_count": 70,
   "metadata": {},
   "outputs": [],
   "source": [
    "def getEuclidDistance(ith_xtrain,xtest):\n",
    "    squared_diff = (ith_xtrain - xtest)**2\n",
    "    total_sum = squared_diff.sum()\n",
    "    return total_sum\n",
    "    "
   ]
  },
  {
   "cell_type": "markdown",
   "metadata": {},
   "source": [
    "The target  list contains  the class to which a particular point belongs to <br>\n",
    " since the distances array contain multiple list with the first index  <br>containing the distance and the next contain index of that point  <br>\n"
   ]
  },
  {
   "cell_type": "code",
   "execution_count": 71,
   "metadata": {},
   "outputs": [],
   "source": [
    "def getTargetArray(distances,k,ytrain) :\n",
    "    targets = []\n",
    "    for i in range(k) :\n",
    "        index = distances[i][1]\n",
    "        targets.append(ytrain[index]) \n",
    "    return targets"
   ]
  },
  {
   "cell_type": "code",
   "execution_count": 72,
   "metadata": {},
   "outputs": [],
   "source": [
    "def predict_for_one(xtrain,ytrain,xtest,k) :\n",
    "    distances = []\n",
    "    for i in range(len(xtrain)) :\n",
    "        distance = getEuclidDistance(xtrain[i,:],xtest)\n",
    "        distances.append([distance,i])\n",
    "    # sort the array on the basis of distances \n",
    "    distances = sorted(distances)\n",
    "    targets = []\n",
    "    targets = getTargetArray(distances,k,ytrain)\n",
    "    tuple_with_targets_count = Counter(targets).most_common(1)[0]\n",
    "    return tuple_with_targets_count[0]\n",
    "         "
   ]
  },
  {
   "cell_type": "markdown",
   "metadata": {},
   "source": [
    "### own predict functiom"
   ]
  },
  {
   "cell_type": "code",
   "execution_count": 73,
   "metadata": {},
   "outputs": [],
   "source": [
    "def predict(xtrain,ytrain,xtest,k) :\n",
    "    predictions = []\n",
    "    for x in xtest :\n",
    "        predictions.append(predict_for_one(xtrain,ytrain,x,k))\n",
    "    return predictions\n",
    "        "
   ]
  },
  {
   "cell_type": "code",
   "execution_count": 74,
   "metadata": {
    "scrolled": true
   },
   "outputs": [
    {
     "data": {
      "text/plain": [
       "0.958041958041958"
      ]
     },
     "execution_count": 74,
     "metadata": {},
     "output_type": "execute_result"
    }
   ],
   "source": [
    "from sklearn.metrics import accuracy_score\n",
    "ypred = predict(xtrain,ytrain,xtest,14)\n",
    "accuracy_score(ytest,ypred)"
   ]
  },
  {
   "cell_type": "markdown",
   "metadata": {},
   "source": [
    "## -------------------- END of implementation ----------------------------"
   ]
  },
  {
   "cell_type": "markdown",
   "metadata": {},
   "source": [
    "### for counter understanding not part of the solution"
   ]
  },
  {
   "cell_type": "code",
   "execution_count": 45,
   "metadata": {},
   "outputs": [
    {
     "data": {
      "text/plain": [
       "(1, 6)"
      ]
     },
     "execution_count": 45,
     "metadata": {},
     "output_type": "execute_result"
    }
   ],
   "source": [
    "from collections import Counter\n",
    "a = [1,2,0,1,2,0,1,2,0,2,1,1,1,2,0,0]\n",
    "Counter(a).most_common(1)[0]"
   ]
  },
  {
   "cell_type": "code",
   "execution_count": 46,
   "metadata": {
    "scrolled": true
   },
   "outputs": [
    {
     "data": {
      "text/plain": [
       "array([2.013e+01, 2.825e+01, 1.312e+02, 1.261e+03, 9.780e-02, 1.034e-01,\n",
       "       1.440e-01, 9.791e-02, 1.752e-01, 5.533e-02, 7.655e-01, 2.463e+00,\n",
       "       5.203e+00, 9.904e+01, 5.769e-03, 2.423e-02, 3.950e-02, 1.678e-02,\n",
       "       1.898e-02, 2.498e-03, 2.369e+01, 3.825e+01, 1.550e+02, 1.731e+03,\n",
       "       1.166e-01, 1.922e-01, 3.215e-01, 1.628e-01, 2.572e-01, 6.637e-02])"
      ]
     },
     "execution_count": 46,
     "metadata": {},
     "output_type": "execute_result"
    }
   ],
   "source": [
    "xtrain[2,:]"
   ]
  },
  {
   "cell_type": "markdown",
   "metadata": {},
   "source": [
    "### Sir Code "
   ]
  },
  {
   "cell_type": "code",
   "execution_count": 40,
   "metadata": {},
   "outputs": [],
   "source": [
    "def predict_one_sir(x_train, y_train, x_test, k):\n",
    "    distances = []\n",
    "    for i in range(len(x_train)):\n",
    "        distance = ((x_train[i, :] - x_test)**2).sum()\n",
    "        distances.append([distance, i])\n",
    "    distances = sorted(distances)\n",
    "    targets = []\n",
    "    for i in range(k):\n",
    "        index_of_training_data = distances[i][1]\n",
    "        targets.append(y_train[index_of_training_data])\n",
    "    return Counter(targets).most_common(1)[0][0]\n",
    "\n",
    "def predict_sir(x_train, y_train, x_test_data, k):\n",
    "    predictions = []\n",
    "    for x_test in x_test_data:\n",
    "        predictions.append(predict_one_sir(x_train, y_train, x_test, k))\n",
    "    return predictions"
   ]
  },
  {
   "cell_type": "code",
   "execution_count": 41,
   "metadata": {},
   "outputs": [
    {
     "data": {
      "text/plain": [
       "0.958041958041958"
      ]
     },
     "execution_count": 41,
     "metadata": {},
     "output_type": "execute_result"
    }
   ],
   "source": [
    "ypred_sir = predict_sir(xtrain,ytrain,xtest,14)\n",
    "accuracy_score(ytest,ypred_sir)"
   ]
  },
  {
   "cell_type": "code",
   "execution_count": null,
   "metadata": {},
   "outputs": [],
   "source": []
  },
  {
   "cell_type": "code",
   "execution_count": null,
   "metadata": {},
   "outputs": [],
   "source": []
  }
 ],
 "metadata": {
  "kernelspec": {
   "display_name": "Python 3",
   "language": "python",
   "name": "python3"
  },
  "language_info": {
   "codemirror_mode": {
    "name": "ipython",
    "version": 3
   },
   "file_extension": ".py",
   "mimetype": "text/x-python",
   "name": "python",
   "nbconvert_exporter": "python",
   "pygments_lexer": "ipython3",
   "version": "3.8.5"
  }
 },
 "nbformat": 4,
 "nbformat_minor": 4
}
