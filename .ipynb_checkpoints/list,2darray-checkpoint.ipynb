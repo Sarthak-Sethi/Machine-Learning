{
 "cells": [
  {
   "cell_type": "code",
   "execution_count": 1,
   "metadata": {},
   "outputs": [
    {
     "data": {
      "text/plain": [
       "['s', 'a', 'r', 't', 'h', 'a', 'k']"
      ]
     },
     "execution_count": 1,
     "metadata": {},
     "output_type": "execute_result"
    }
   ],
   "source": [
    "list(\"sarthak\")"
   ]
  },
  {
   "cell_type": "code",
   "execution_count": 9,
   "metadata": {},
   "outputs": [
    {
     "data": {
      "text/plain": [
       "[1, 2, 3, 5, 6, 7]"
      ]
     },
     "execution_count": 9,
     "metadata": {},
     "output_type": "execute_result"
    }
   ],
   "source": [
    "# Bubble Sort\n",
    "l=[2,5,6,7,3,1]\n",
    "n = len(l)\n",
    "for i in range(0,n-1):\n",
    "    for j in range(0,n-1-i):\n",
    "        if(l[j]>l[j+1]):\n",
    "            l[j],l[j+1]=l[j+1],l[j]\n",
    "            \n",
    "l       "
   ]
  },
  {
   "cell_type": "code",
   "execution_count": null,
   "metadata": {},
   "outputs": [],
   "source": [
    "#Selection Sort\n"
   ]
  },
  {
   "cell_type": "code",
   "execution_count": null,
   "metadata": {},
   "outputs": [],
   "source": [
    "#Array Equilibrium Index DIDNT WORK\n",
    "arr = [int(x) for x in input().strip().split(\" \")]\n",
    "n = len(arr)\n",
    "print(arrayEquilibriumIndex(arr,n))\n",
    "def arrayEquilibriumIndex(arr, n) :\n",
    "    lsum = 0\n",
    "    rsum=0\n",
    "    for i in range(0,n):\n",
    "        for j in range(0,i):\n",
    "            lsum+=arr[j]\n",
    "        for j in range(i+1,n):\n",
    "            rsum+=arr[j]\n",
    "        if(lsum==rsum):\n",
    "            return i\n",
    "    return -1"
   ]
  },
  {
   "cell_type": "code",
   "execution_count": 3,
   "metadata": {},
   "outputs": [
    {
     "name": "stdout",
     "output_type": "stream",
     "text": [
      "3\n",
      "3\n",
      "1 2 3 4 5 6 7 8 9\n"
     ]
    },
    {
     "data": {
      "text/plain": [
       "[[1, 2, 3], [4, 5, 6], [7, 8, 9]]"
      ]
     },
     "execution_count": 3,
     "metadata": {},
     "output_type": "execute_result"
    }
   ],
   "source": [
    "#2d Array\n",
    "row = int(input())\n",
    "col = int(input())\n",
    "l=[int(x) for x in input().split(\" \")] # take input and convert into int\n",
    "l=[[l[i*col+j] for j in range(col)] for i in range(row)] # convert a list into 1 2d array of given row and col\n",
    "l"
   ]
  },
  {
   "cell_type": "code",
   "execution_count": 4,
   "metadata": {},
   "outputs": [
    {
     "name": "stdout",
     "output_type": "stream",
     "text": [
      "1 4 7 8 5 2 3 6 9 "
     ]
    }
   ],
   "source": [
    "#Wave Print\n",
    "for j in range(0,col):\n",
    "    if(j%2==0):\n",
    "        for i in range(0,row):\n",
    "            print(l[i][j],end=\" \")\n",
    "    else :\n",
    "        for i in range(row-1,-1,-1):\n",
    "            print(l[i][j],end=\" \")"
   ]
  },
  {
   "cell_type": "code",
   "execution_count": 7,
   "metadata": {},
   "outputs": [
    {
     "name": "stdout",
     "output_type": "stream",
     "text": [
      "row 2 24\n"
     ]
    }
   ],
   "source": [
    "#largest row or col\n",
    "def findLargest(arr, nRows, mCols):\n",
    "    maxsum = -2**31\n",
    "    index = 0\n",
    "    sp = \"row\"\n",
    "    for i in range(0,nRows):\n",
    "        sum=0\n",
    "        for j in range(0,mCols):\n",
    "            sum+=arr[i][j]\n",
    "        if(sum>maxsum):\n",
    "            maxsum= sum\n",
    "            index = i\n",
    "    \n",
    "    for j in range(mCols):\n",
    "        sum=0\n",
    "        for i in range(nRows):\n",
    "             sum+=arr[i][j]\n",
    "        if(sum>maxsum):\n",
    "            sp = \"column\"\n",
    "            maxsum=sum\n",
    "            index = j\n",
    "            \n",
    "    print(sp+\" \"+str(index)+\" \"+str(maxsum))\n",
    "    \n",
    "findLargest(l,3,3)"
   ]
  },
  {
   "cell_type": "code",
   "execution_count": null,
   "metadata": {},
   "outputs": [],
   "source": [
    "#Spiral print\n"
   ]
  },
  {
   "cell_type": "code",
   "execution_count": null,
   "metadata": {},
   "outputs": [],
   "source": []
  }
 ],
 "metadata": {
  "kernelspec": {
   "display_name": "Python 3",
   "language": "python",
   "name": "python3"
  },
  "language_info": {
   "codemirror_mode": {
    "name": "ipython",
    "version": 3
   },
   "file_extension": ".py",
   "mimetype": "text/x-python",
   "name": "python",
   "nbconvert_exporter": "python",
   "pygments_lexer": "ipython3",
   "version": "3.8.5"
  }
 },
 "nbformat": 4,
 "nbformat_minor": 4
}
