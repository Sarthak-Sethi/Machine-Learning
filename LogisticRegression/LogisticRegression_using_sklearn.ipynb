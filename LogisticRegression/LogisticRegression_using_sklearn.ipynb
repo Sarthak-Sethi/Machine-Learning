{
 "cells": [
  {
   "cell_type": "code",
   "execution_count": 1,
   "metadata": {},
   "outputs": [],
   "source": [
    "from sklearn import datasets\n",
    "from sklearn.linear_model import LogisticRegression"
   ]
  },
  {
   "cell_type": "code",
   "execution_count": 3,
   "metadata": {},
   "outputs": [
    {
     "name": "stdout",
     "output_type": "stream",
     "text": [
      ".. _breast_cancer_dataset:\n",
      "\n",
      "Breast cancer wisconsin (diagnostic) dataset\n",
      "--------------------------------------------\n",
      "\n",
      "**Data Set Characteristics:**\n",
      "\n",
      "    :Number of Instances: 569\n",
      "\n",
      "    :Number of Attributes: 30 numeric, predictive attributes and the class\n",
      "\n",
      "    :Attribute Information:\n",
      "        - radius (mean of distances from center to points on the perimeter)\n",
      "        - texture (standard deviation of gray-scale values)\n",
      "        - perimeter\n",
      "        - area\n",
      "        - smoothness (local variation in radius lengths)\n",
      "        - compactness (perimeter^2 / area - 1.0)\n",
      "        - concavity (severity of concave portions of the contour)\n",
      "        - concave points (number of concave portions of the contour)\n",
      "        - symmetry\n",
      "        - fractal dimension (\"coastline approximation\" - 1)\n",
      "\n",
      "        The mean, standard error, and \"worst\" or largest (mean of the three\n",
      "        worst/largest values) of these features were computed for each image,\n",
      "        resulting in 30 features.  For instance, field 0 is Mean Radius, field\n",
      "        10 is Radius SE, field 20 is Worst Radius.\n",
      "\n",
      "        - class:\n",
      "                - WDBC-Malignant\n",
      "                - WDBC-Benign\n",
      "\n",
      "    :Summary Statistics:\n",
      "\n",
      "    ===================================== ====== ======\n",
      "                                           Min    Max\n",
      "    ===================================== ====== ======\n",
      "    radius (mean):                        6.981  28.11\n",
      "    texture (mean):                       9.71   39.28\n",
      "    perimeter (mean):                     43.79  188.5\n",
      "    area (mean):                          143.5  2501.0\n",
      "    smoothness (mean):                    0.053  0.163\n",
      "    compactness (mean):                   0.019  0.345\n",
      "    concavity (mean):                     0.0    0.427\n",
      "    concave points (mean):                0.0    0.201\n",
      "    symmetry (mean):                      0.106  0.304\n",
      "    fractal dimension (mean):             0.05   0.097\n",
      "    radius (standard error):              0.112  2.873\n",
      "    texture (standard error):             0.36   4.885\n",
      "    perimeter (standard error):           0.757  21.98\n",
      "    area (standard error):                6.802  542.2\n",
      "    smoothness (standard error):          0.002  0.031\n",
      "    compactness (standard error):         0.002  0.135\n",
      "    concavity (standard error):           0.0    0.396\n",
      "    concave points (standard error):      0.0    0.053\n",
      "    symmetry (standard error):            0.008  0.079\n",
      "    fractal dimension (standard error):   0.001  0.03\n",
      "    radius (worst):                       7.93   36.04\n",
      "    texture (worst):                      12.02  49.54\n",
      "    perimeter (worst):                    50.41  251.2\n",
      "    area (worst):                         185.2  4254.0\n",
      "    smoothness (worst):                   0.071  0.223\n",
      "    compactness (worst):                  0.027  1.058\n",
      "    concavity (worst):                    0.0    1.252\n",
      "    concave points (worst):               0.0    0.291\n",
      "    symmetry (worst):                     0.156  0.664\n",
      "    fractal dimension (worst):            0.055  0.208\n",
      "    ===================================== ====== ======\n",
      "\n",
      "    :Missing Attribute Values: None\n",
      "\n",
      "    :Class Distribution: 212 - Malignant, 357 - Benign\n",
      "\n",
      "    :Creator:  Dr. William H. Wolberg, W. Nick Street, Olvi L. Mangasarian\n",
      "\n",
      "    :Donor: Nick Street\n",
      "\n",
      "    :Date: November, 1995\n",
      "\n",
      "This is a copy of UCI ML Breast Cancer Wisconsin (Diagnostic) datasets.\n",
      "https://goo.gl/U2Uwz2\n",
      "\n",
      "Features are computed from a digitized image of a fine needle\n",
      "aspirate (FNA) of a breast mass.  They describe\n",
      "characteristics of the cell nuclei present in the image.\n",
      "\n",
      "Separating plane described above was obtained using\n",
      "Multisurface Method-Tree (MSM-T) [K. P. Bennett, \"Decision Tree\n",
      "Construction Via Linear Programming.\" Proceedings of the 4th\n",
      "Midwest Artificial Intelligence and Cognitive Science Society,\n",
      "pp. 97-101, 1992], a classification method which uses linear\n",
      "programming to construct a decision tree.  Relevant features\n",
      "were selected using an exhaustive search in the space of 1-4\n",
      "features and 1-3 separating planes.\n",
      "\n",
      "The actual linear program used to obtain the separating plane\n",
      "in the 3-dimensional space is that described in:\n",
      "[K. P. Bennett and O. L. Mangasarian: \"Robust Linear\n",
      "Programming Discrimination of Two Linearly Inseparable Sets\",\n",
      "Optimization Methods and Software 1, 1992, 23-34].\n",
      "\n",
      "This database is also available through the UW CS ftp server:\n",
      "\n",
      "ftp ftp.cs.wisc.edu\n",
      "cd math-prog/cpo-dataset/machine-learn/WDBC/\n",
      "\n",
      ".. topic:: References\n",
      "\n",
      "   - W.N. Street, W.H. Wolberg and O.L. Mangasarian. Nuclear feature extraction \n",
      "     for breast tumor diagnosis. IS&T/SPIE 1993 International Symposium on \n",
      "     Electronic Imaging: Science and Technology, volume 1905, pages 861-870,\n",
      "     San Jose, CA, 1993.\n",
      "   - O.L. Mangasarian, W.N. Street and W.H. Wolberg. Breast cancer diagnosis and \n",
      "     prognosis via linear programming. Operations Research, 43(4), pages 570-577, \n",
      "     July-August 1995.\n",
      "   - W.H. Wolberg, W.N. Street, and O.L. Mangasarian. Machine learning techniques\n",
      "     to diagnose breast cancer from fine-needle aspirates. Cancer Letters 77 (1994) \n",
      "     163-171.\n"
     ]
    }
   ],
   "source": [
    "data = datasets.load_breast_cancer()\n",
    "print(data.DESCR)"
   ]
  },
  {
   "cell_type": "markdown",
   "metadata": {},
   "source": [
    "Breaking data in training and testing"
   ]
  },
  {
   "cell_type": "code",
   "execution_count": 4,
   "metadata": {},
   "outputs": [],
   "source": [
    "from sklearn import model_selection as ms\n",
    "xtrain,xtest,ytrain,ytest  = ms.train_test_split(data.data,data.target)"
   ]
  },
  {
   "cell_type": "markdown",
   "metadata": {},
   "source": [
    "Creating object of inbuilt logistic regression and fitting the training data"
   ]
  },
  {
   "cell_type": "code",
   "execution_count": 13,
   "metadata": {},
   "outputs": [
    {
     "data": {
      "text/plain": [
       "LogisticRegression(max_iter=1000)"
      ]
     },
     "execution_count": 13,
     "metadata": {},
     "output_type": "execute_result"
    }
   ],
   "source": [
    "Algo = LogisticRegression(max_iter=1000)\n",
    "Algo.fit(xtrain,ytrain)"
   ]
  },
  {
   "cell_type": "markdown",
   "metadata": {},
   "source": [
    "calculating the predicted y that is x input dene pe hamari algo ka ans kya h that is ypred and ans should be ytest"
   ]
  },
  {
   "cell_type": "code",
   "execution_count": 14,
   "metadata": {},
   "outputs": [
    {
     "data": {
      "text/plain": [
       "array([1, 1, 1, 1, 1, 0, 1, 0, 1, 0, 0, 1, 1, 1, 0, 1, 0, 1, 0, 0, 1, 0,\n",
       "       0, 0, 1, 1, 0, 1, 0, 0, 1, 1, 1, 1, 0, 1, 0, 1, 0, 0, 1, 0, 1, 1,\n",
       "       1, 0, 1, 0, 1, 0, 1, 1, 0, 1, 0, 1, 1, 1, 1, 0, 1, 1, 0, 0, 1, 0,\n",
       "       0, 1, 0, 1, 1, 1, 1, 0, 0, 0, 1, 0, 1, 0, 1, 1, 1, 1, 1, 1, 0, 1,\n",
       "       1, 1, 1, 1, 0, 1, 1, 1, 0, 1, 1, 0, 0, 1, 0, 1, 1, 0, 0, 0, 1, 0,\n",
       "       1, 1, 0, 1, 0, 1, 1, 1, 0, 0, 1, 1, 0, 0, 1, 0, 0, 1, 1, 1, 1, 1,\n",
       "       1, 1, 1, 1, 1, 0, 1, 0, 1, 1, 1])"
      ]
     },
     "execution_count": 14,
     "metadata": {},
     "output_type": "execute_result"
    }
   ],
   "source": [
    "ypred = Algo.predict(xtest)\n",
    "ypred"
   ]
  },
  {
   "cell_type": "markdown",
   "metadata": {},
   "source": [
    "Score of our function on testing data"
   ]
  },
  {
   "cell_type": "code",
   "execution_count": 15,
   "metadata": {},
   "outputs": [
    {
     "data": {
      "text/plain": [
       "0.972027972027972"
      ]
     },
     "execution_count": 15,
     "metadata": {},
     "output_type": "execute_result"
    }
   ],
   "source": [
    "Algo.score(xtest,ytest)"
   ]
  },
  {
   "cell_type": "markdown",
   "metadata": {},
   "source": [
    "this is the array of confidence below <br>\n",
    "it shows the difference between the predicted and actual output <br>\n",
    "Our prediction is correct when the ans is 0 and if its -1 or 1 its wrong  (more explained in copy)"
   ]
  },
  {
   "cell_type": "code",
   "execution_count": 19,
   "metadata": {},
   "outputs": [
    {
     "data": {
      "text/plain": [
       "array([ 0,  0,  0,  0,  0,  0,  0,  0,  0, -1,  0,  0,  1,  0,  0,  0,  0,\n",
       "        0,  0,  0,  0,  0,  0,  0,  0,  0,  0,  0,  0,  0,  0,  0,  0,  0,\n",
       "        0,  0,  0,  0,  0,  0,  0,  0,  0,  0,  0,  0,  0,  0,  1,  0,  0,\n",
       "        0,  0,  0,  0,  0,  0,  0,  1,  0,  0,  0,  0,  0,  0,  0,  0,  0,\n",
       "        0,  0,  0,  0,  0,  0,  0,  0,  0,  0,  0,  0,  0,  0,  0,  0,  0,\n",
       "        0,  0,  0,  0,  0,  0,  0,  0,  0,  0,  0,  0,  0,  0,  0,  0,  0,\n",
       "        0,  0,  0,  0,  0,  0,  0,  0,  0,  0,  0,  0,  0,  0,  0,  0,  0,\n",
       "        0,  0,  0,  0,  0,  0,  0,  0,  0,  0,  0,  0,  0,  0,  0,  0,  0,\n",
       "        0,  0,  0,  0,  0,  0,  0])"
      ]
     },
     "execution_count": 19,
     "metadata": {},
     "output_type": "execute_result"
    }
   ],
   "source": [
    "confidence_arr = ypred - ytest\n",
    "confidence_arr"
   ]
  },
  {
   "cell_type": "code",
   "execution_count": 23,
   "metadata": {},
   "outputs": [
    {
     "data": {
      "text/plain": [
       "array([[2.20051158e-03, 9.97799488e-01],\n",
       "       [9.58213214e-02, 9.04178679e-01],\n",
       "       [3.16277658e-02, 9.68372234e-01],\n",
       "       [1.11980105e-01, 8.88019895e-01],\n",
       "       [5.78313120e-03, 9.94216869e-01],\n",
       "       [9.99998428e-01, 1.57234757e-06],\n",
       "       [1.98976350e-01, 8.01023650e-01],\n",
       "       [9.99153009e-01, 8.46990917e-04],\n",
       "       [4.27963907e-02, 9.57203609e-01],\n",
       "       [7.54236080e-01, 2.45763920e-01],\n",
       "       [8.78611703e-01, 1.21388297e-01],\n",
       "       [3.73680648e-03, 9.96263194e-01],\n",
       "       [4.89339225e-01, 5.10660775e-01],\n",
       "       [7.25123221e-03, 9.92748768e-01],\n",
       "       [9.99999043e-01, 9.57474214e-07],\n",
       "       [1.73630912e-02, 9.82636909e-01],\n",
       "       [7.93049747e-01, 2.06950253e-01],\n",
       "       [3.59458572e-03, 9.96405414e-01],\n",
       "       [1.00000000e+00, 1.50401520e-13],\n",
       "       [9.99985687e-01, 1.43125943e-05],\n",
       "       [1.05462552e-02, 9.89453745e-01],\n",
       "       [9.99999796e-01, 2.04050282e-07],\n",
       "       [9.99997834e-01, 2.16616234e-06],\n",
       "       [9.99996207e-01, 3.79305577e-06],\n",
       "       [2.50677445e-02, 9.74932256e-01],\n",
       "       [1.79243110e-02, 9.82075689e-01],\n",
       "       [9.94569923e-01, 5.43007699e-03],\n",
       "       [8.80746973e-04, 9.99119253e-01],\n",
       "       [8.27647732e-01, 1.72352268e-01],\n",
       "       [1.00000000e+00, 2.83614418e-10],\n",
       "       [1.40864692e-02, 9.85913531e-01],\n",
       "       [3.43411051e-04, 9.99656589e-01],\n",
       "       [1.29344364e-03, 9.98706556e-01],\n",
       "       [3.06107005e-04, 9.99693893e-01],\n",
       "       [9.99998845e-01, 1.15544083e-06],\n",
       "       [2.43211532e-02, 9.75678847e-01],\n",
       "       [8.84999934e-01, 1.15000066e-01],\n",
       "       [3.47663083e-02, 9.65233692e-01],\n",
       "       [9.99344970e-01, 6.55029723e-04],\n",
       "       [9.99996800e-01, 3.20035936e-06],\n",
       "       [1.33640209e-02, 9.86635979e-01],\n",
       "       [9.99999998e-01, 1.91607047e-09],\n",
       "       [9.25467364e-04, 9.99074533e-01],\n",
       "       [5.14569312e-03, 9.94854307e-01],\n",
       "       [2.22266250e-03, 9.97777337e-01],\n",
       "       [9.99982034e-01, 1.79656035e-05],\n",
       "       [2.67578453e-03, 9.97324215e-01],\n",
       "       [1.00000000e+00, 1.85652546e-16],\n",
       "       [4.28763535e-01, 5.71236465e-01],\n",
       "       [9.77080097e-01, 2.29199028e-02],\n",
       "       [5.92574607e-03, 9.94074254e-01],\n",
       "       [2.06701318e-02, 9.79329868e-01],\n",
       "       [9.99999835e-01, 1.65071355e-07],\n",
       "       [4.40551450e-03, 9.95594486e-01],\n",
       "       [9.99999884e-01, 1.15983890e-07],\n",
       "       [6.06227943e-02, 9.39377206e-01],\n",
       "       [7.96627923e-02, 9.20337208e-01],\n",
       "       [3.83029969e-02, 9.61697003e-01],\n",
       "       [8.98286242e-02, 9.10171376e-01],\n",
       "       [9.80759025e-01, 1.92409750e-02],\n",
       "       [4.88679602e-02, 9.51132040e-01],\n",
       "       [3.40994353e-03, 9.96590056e-01],\n",
       "       [9.99968344e-01, 3.16563681e-05],\n",
       "       [9.98857108e-01, 1.14289224e-03],\n",
       "       [1.04701002e-01, 8.95298998e-01],\n",
       "       [9.89575196e-01, 1.04248043e-02],\n",
       "       [1.00000000e+00, 3.08072543e-15],\n",
       "       [1.48556201e-02, 9.85144380e-01],\n",
       "       [9.99999967e-01, 3.30787949e-08],\n",
       "       [2.99490881e-02, 9.70050912e-01],\n",
       "       [1.31906458e-02, 9.86809354e-01],\n",
       "       [8.09918213e-02, 9.19008179e-01],\n",
       "       [7.96695089e-03, 9.92033049e-01],\n",
       "       [9.39750830e-01, 6.02491699e-02],\n",
       "       [8.32370159e-01, 1.67629841e-01],\n",
       "       [9.99859837e-01, 1.40162694e-04],\n",
       "       [9.10556739e-02, 9.08944326e-01],\n",
       "       [9.99999712e-01, 2.88299409e-07],\n",
       "       [7.20412384e-03, 9.92795876e-01],\n",
       "       [9.99971208e-01, 2.87923102e-05],\n",
       "       [4.49743086e-01, 5.50256914e-01],\n",
       "       [7.23988788e-03, 9.92760112e-01],\n",
       "       [1.12605505e-03, 9.98873945e-01],\n",
       "       [8.18179236e-03, 9.91818208e-01],\n",
       "       [1.90585542e-04, 9.99809414e-01],\n",
       "       [1.72804405e-01, 8.27195595e-01],\n",
       "       [9.99998701e-01, 1.29861855e-06],\n",
       "       [6.19903803e-03, 9.93800962e-01],\n",
       "       [2.95302346e-03, 9.97046977e-01],\n",
       "       [2.40051585e-03, 9.97599484e-01],\n",
       "       [1.84241415e-03, 9.98157586e-01],\n",
       "       [2.15394859e-02, 9.78460514e-01],\n",
       "       [1.00000000e+00, 2.10068713e-19],\n",
       "       [4.23124440e-03, 9.95768756e-01],\n",
       "       [3.86353598e-01, 6.13646402e-01],\n",
       "       [4.22591595e-03, 9.95774084e-01],\n",
       "       [9.99999935e-01, 6.46012458e-08],\n",
       "       [4.82144272e-03, 9.95178557e-01],\n",
       "       [7.40886776e-02, 9.25911322e-01],\n",
       "       [9.99980415e-01, 1.95853042e-05],\n",
       "       [6.68728314e-01, 3.31271686e-01],\n",
       "       [3.05553094e-03, 9.96944469e-01],\n",
       "       [9.97634464e-01, 2.36553604e-03],\n",
       "       [1.02725379e-01, 8.97274621e-01],\n",
       "       [2.19442150e-03, 9.97805579e-01],\n",
       "       [9.99999980e-01, 1.99338301e-08],\n",
       "       [9.99999999e-01, 9.16107540e-10],\n",
       "       [9.97339141e-01, 2.66085918e-03],\n",
       "       [5.95182773e-02, 9.40481723e-01],\n",
       "       [9.01716318e-01, 9.82836825e-02],\n",
       "       [6.77856174e-02, 9.32214383e-01],\n",
       "       [1.41320470e-01, 8.58679530e-01],\n",
       "       [9.41637422e-01, 5.83625776e-02],\n",
       "       [9.63104785e-02, 9.03689522e-01],\n",
       "       [9.99999248e-01, 7.52311044e-07],\n",
       "       [3.30950168e-02, 9.66904983e-01],\n",
       "       [5.45706504e-03, 9.94542935e-01],\n",
       "       [1.49350272e-01, 8.50649728e-01],\n",
       "       [9.99999979e-01, 2.09858931e-08],\n",
       "       [9.99999983e-01, 1.71117109e-08],\n",
       "       [1.74957247e-03, 9.98250428e-01],\n",
       "       [3.24474192e-03, 9.96755258e-01],\n",
       "       [9.99999988e-01, 1.24955546e-08],\n",
       "       [8.84639250e-01, 1.15360750e-01],\n",
       "       [1.34973766e-01, 8.65026234e-01],\n",
       "       [9.99992375e-01, 7.62477192e-06],\n",
       "       [9.80460442e-01, 1.95395581e-02],\n",
       "       [5.41420640e-02, 9.45857936e-01],\n",
       "       [4.80723704e-02, 9.51927630e-01],\n",
       "       [1.85677034e-01, 8.14322966e-01],\n",
       "       [1.64038512e-02, 9.83596149e-01],\n",
       "       [3.85737181e-03, 9.96142628e-01],\n",
       "       [7.14478088e-03, 9.92855219e-01],\n",
       "       [3.24505627e-02, 9.67549437e-01],\n",
       "       [2.34725882e-02, 9.76527412e-01],\n",
       "       [1.42516043e-01, 8.57483957e-01],\n",
       "       [1.46050972e-02, 9.85394903e-01],\n",
       "       [9.99999999e-01, 9.20875297e-10],\n",
       "       [1.52559844e-04, 9.99847440e-01],\n",
       "       [9.99999900e-01, 9.97855452e-08],\n",
       "       [8.55997154e-04, 9.99144003e-01],\n",
       "       [1.84841573e-02, 9.81515843e-01],\n",
       "       [1.28129572e-02, 9.87187043e-01]])"
      ]
     },
     "execution_count": 23,
     "metadata": {},
     "output_type": "execute_result"
    }
   ],
   "source": [
    "confidencevalues = Algo.predict_proba(xtest)\n",
    "confidencevalues"
   ]
  },
  {
   "cell_type": "markdown",
   "metadata": {},
   "source": [
    "the array above contains more arrays of 2 variables <br>\n",
    "for the first pointthe array is :  [2.20051158e-03, 9.97799488e-01]  <br>\n",
    "here 2.20051158e-03 is the confidence propability of our algo that it belongs to 0 <br>\n",
    "9.97799488e-01 is propability that it belongs to 1 , <br>\n",
    "it is visible that it is very confident that it is 1 and he is correct as seen in the confidence_arr the result as first index is 0"
   ]
  },
  {
   "cell_type": "code",
   "execution_count": 24,
   "metadata": {},
   "outputs": [
    {
     "data": {
      "text/plain": [
       "array([0.75423608, 0.24576392])"
      ]
     },
     "execution_count": 24,
     "metadata": {},
     "output_type": "execute_result"
    }
   ],
   "source": [
    "confidencevalues[9]"
   ]
  },
  {
   "cell_type": "markdown",
   "metadata": {},
   "source": [
    "since the prediction is wrong at the 9th index we can see our confidence is also not very high \n",
    "because if confidence is high and ans is wrong its not good lol"
   ]
  },
  {
   "cell_type": "code",
   "execution_count": null,
   "metadata": {},
   "outputs": [],
   "source": []
  }
 ],
 "metadata": {
  "kernelspec": {
   "display_name": "Python 3",
   "language": "python",
   "name": "python3"
  },
  "language_info": {
   "codemirror_mode": {
    "name": "ipython",
    "version": 3
   },
   "file_extension": ".py",
   "mimetype": "text/x-python",
   "name": "python",
   "nbconvert_exporter": "python",
   "pygments_lexer": "ipython3",
   "version": "3.8.5"
  }
 },
 "nbformat": 4,
 "nbformat_minor": 4
}
