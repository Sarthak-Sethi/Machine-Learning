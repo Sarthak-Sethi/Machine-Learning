{
 "cells": [
  {
   "cell_type": "code",
   "execution_count": 1,
   "metadata": {},
   "outputs": [],
   "source": [
    "from sklearn import datasets\n",
    "from sklearn.linear_model import LogisticRegression"
   ]
  },
  {
   "cell_type": "code",
   "execution_count": 2,
   "metadata": {},
   "outputs": [],
   "source": [
    "data = datasets.load_breast_cancer()"
   ]
  },
  {
   "cell_type": "markdown",
   "metadata": {},
   "source": [
    "Breaking data in training and testing"
   ]
  },
  {
   "cell_type": "code",
   "execution_count": 3,
   "metadata": {},
   "outputs": [],
   "source": [
    "from sklearn import model_selection as ms\n",
    "xtrain,xtest,ytrain,ytest  = ms.train_test_split(data.data,data.target)"
   ]
  },
  {
   "cell_type": "markdown",
   "metadata": {},
   "source": [
    "Creating object of inbuilt logistic regression and fitting the training data"
   ]
  },
  {
   "cell_type": "code",
   "execution_count": 10,
   "metadata": {},
   "outputs": [
    {
     "data": {
      "text/plain": [
       "LogisticRegression(max_iter=10000)"
      ]
     },
     "execution_count": 10,
     "metadata": {},
     "output_type": "execute_result"
    }
   ],
   "source": [
    "Algo = LogisticRegression(max_iter=10000)\n",
    "Algo.fit(xtrain,ytrain)"
   ]
  },
  {
   "cell_type": "markdown",
   "metadata": {},
   "source": [
    "calculating the predicted y that is x input dene pe hamari algo ka ans kya h that is ypred and ans should be ytest"
   ]
  },
  {
   "cell_type": "code",
   "execution_count": 11,
   "metadata": {},
   "outputs": [
    {
     "data": {
      "text/plain": [
       "array([0, 0, 1, 1, 1, 0, 0, 0, 0, 1, 1, 1, 1, 1, 0, 0, 1, 0, 1, 0, 1, 0,\n",
       "       1, 1, 1, 1, 1, 0, 0, 1, 1, 0, 1, 0, 1, 1, 0, 1, 0, 1, 0, 1, 0, 0,\n",
       "       0, 1, 1, 0, 1, 1, 1, 1, 1, 1, 1, 1, 1, 1, 0, 0, 1, 0, 0, 1, 1, 0,\n",
       "       1, 0, 1, 0, 0, 1, 0, 1, 1, 0, 1, 1, 0, 1, 1, 0, 1, 1, 0, 0, 1, 1,\n",
       "       1, 1, 0, 1, 0, 1, 0, 1, 0, 0, 0, 0, 1, 1, 1, 1, 0, 0, 1, 1, 1, 1,\n",
       "       1, 1, 1, 1, 0, 0, 1, 1, 0, 0, 0, 0, 1, 1, 1, 0, 1, 0, 1, 0, 0, 0,\n",
       "       0, 1, 1, 0, 1, 0, 0, 0, 1, 0, 0])"
      ]
     },
     "execution_count": 11,
     "metadata": {},
     "output_type": "execute_result"
    }
   ],
   "source": [
    "ypred = Algo.predict(xtest)\n",
    "ypred"
   ]
  },
  {
   "cell_type": "markdown",
   "metadata": {},
   "source": [
    "Score of our function on testing data"
   ]
  },
  {
   "cell_type": "code",
   "execution_count": 12,
   "metadata": {},
   "outputs": [
    {
     "data": {
      "text/plain": [
       "0.951048951048951"
      ]
     },
     "execution_count": 12,
     "metadata": {},
     "output_type": "execute_result"
    }
   ],
   "source": [
    "Algo.score(xtest,ytest)"
   ]
  },
  {
   "cell_type": "markdown",
   "metadata": {},
   "source": [
    "this is the array of confidence below <br>\n",
    "it shows the difference between the predicted and actual output <br>\n",
    "Our prediction is correct when the ans is 0 and if its -1 or 1 its wrong  (more explained in copy)"
   ]
  },
  {
   "cell_type": "code",
   "execution_count": 13,
   "metadata": {},
   "outputs": [
    {
     "data": {
      "text/plain": [
       "array([ 0,  0,  0,  0,  0,  0,  0,  0, -1,  0,  0,  0,  0,  0,  0,  0,  0,\n",
       "        0,  0,  0,  0,  0,  0,  0,  0,  0,  0,  0,  0,  0,  0,  0,  0, -1,\n",
       "        0,  0,  0,  0,  0,  0,  0,  0,  0,  0,  0,  0,  0,  0,  0,  0,  0,\n",
       "        0,  0,  0,  0,  0,  0,  0,  0,  0,  0,  0,  0,  0,  0, -1,  1,  0,\n",
       "        0,  0, -1,  0,  0,  0,  0,  0,  0,  0,  0,  0,  0,  0,  0,  0,  0,\n",
       "        0,  0,  0,  0,  0,  0,  0,  0,  0,  0,  0,  0,  0,  0,  0,  0,  0,\n",
       "        0,  0, -1,  0,  0,  0,  0,  0,  0,  0,  0,  0,  0,  0,  0,  0,  0,\n",
       "        0,  0,  0,  0,  0,  0,  0,  0, -1,  0,  0,  0,  0,  0,  0,  0,  0,\n",
       "        0,  0,  0,  0,  0,  0,  0])"
      ]
     },
     "execution_count": 13,
     "metadata": {},
     "output_type": "execute_result"
    }
   ],
   "source": [
    "confidence_arr = ypred - ytest\n",
    "confidence_arr"
   ]
  },
  {
   "cell_type": "code",
   "execution_count": 14,
   "metadata": {},
   "outputs": [
    {
     "data": {
      "text/plain": [
       "array([[9.99860333e-01, 1.39666983e-04],\n",
       "       [9.99995006e-01, 4.99377588e-06],\n",
       "       [1.31573597e-02, 9.86842640e-01],\n",
       "       [1.62526791e-02, 9.83747321e-01],\n",
       "       [2.96074116e-03, 9.97039259e-01],\n",
       "       [1.00000000e+00, 1.02853842e-15],\n",
       "       [9.99288492e-01, 7.11507930e-04],\n",
       "       [9.99999995e-01, 4.69111033e-09],\n",
       "       [5.60393034e-01, 4.39606966e-01],\n",
       "       [1.01615256e-02, 9.89838474e-01],\n",
       "       [1.20546966e-04, 9.99879453e-01],\n",
       "       [9.51815720e-03, 9.90481843e-01],\n",
       "       [7.49764813e-03, 9.92502352e-01],\n",
       "       [2.40697487e-05, 9.99975930e-01],\n",
       "       [9.99999994e-01, 6.14235660e-09],\n",
       "       [9.72573541e-01, 2.74264594e-02],\n",
       "       [4.70740741e-05, 9.99952926e-01],\n",
       "       [9.99902476e-01, 9.75242177e-05],\n",
       "       [4.19588847e-07, 9.99999580e-01],\n",
       "       [1.00000000e+00, 1.67280795e-27],\n",
       "       [9.59920246e-03, 9.90400798e-01],\n",
       "       [9.99997601e-01, 2.39908658e-06],\n",
       "       [5.22307990e-06, 9.99994777e-01],\n",
       "       [1.34281162e-01, 8.65718838e-01],\n",
       "       [5.70669340e-02, 9.42933066e-01],\n",
       "       [1.55859532e-06, 9.99998441e-01],\n",
       "       [1.40851572e-01, 8.59148428e-01],\n",
       "       [1.00000000e+00, 4.10867490e-11],\n",
       "       [1.00000000e+00, 6.65815221e-16],\n",
       "       [2.02492193e-03, 9.97975078e-01],\n",
       "       [1.21663468e-03, 9.98783365e-01],\n",
       "       [9.99853921e-01, 1.46079264e-04],\n",
       "       [2.13164456e-04, 9.99786836e-01],\n",
       "       [8.16123831e-01, 1.83876169e-01],\n",
       "       [2.17457917e-03, 9.97825421e-01],\n",
       "       [1.03388483e-02, 9.89661152e-01],\n",
       "       [1.00000000e+00, 1.41400146e-13],\n",
       "       [8.09203253e-04, 9.99190797e-01],\n",
       "       [9.92067838e-01, 7.93216202e-03],\n",
       "       [2.07977771e-01, 7.92022229e-01],\n",
       "       [9.99999840e-01, 1.60197160e-07],\n",
       "       [5.46259010e-04, 9.99453741e-01],\n",
       "       [7.17203447e-01, 2.82796553e-01],\n",
       "       [9.99961417e-01, 3.85832716e-05],\n",
       "       [9.99998389e-01, 1.61085098e-06],\n",
       "       [2.93879808e-01, 7.06120192e-01],\n",
       "       [9.11525405e-05, 9.99908847e-01],\n",
       "       [9.99991413e-01, 8.58746634e-06],\n",
       "       [1.08895964e-02, 9.89110404e-01],\n",
       "       [6.20416295e-04, 9.99379584e-01],\n",
       "       [3.28286637e-03, 9.96717134e-01],\n",
       "       [5.33349741e-03, 9.94666503e-01],\n",
       "       [1.68853894e-01, 8.31146106e-01],\n",
       "       [2.22927525e-03, 9.97770725e-01],\n",
       "       [2.56591454e-04, 9.99743409e-01],\n",
       "       [9.25199688e-04, 9.99074800e-01],\n",
       "       [5.42365755e-05, 9.99945763e-01],\n",
       "       [2.12890737e-04, 9.99787109e-01],\n",
       "       [7.78871722e-01, 2.21128278e-01],\n",
       "       [9.99999385e-01, 6.15376233e-07],\n",
       "       [2.77434356e-01, 7.22565644e-01],\n",
       "       [9.99999217e-01, 7.82793471e-07],\n",
       "       [9.63283480e-01, 3.67165196e-02],\n",
       "       [2.08893400e-03, 9.97911066e-01],\n",
       "       [1.61890106e-02, 9.83810989e-01],\n",
       "       [8.80504471e-01, 1.19495529e-01],\n",
       "       [2.30367808e-01, 7.69632192e-01],\n",
       "       [1.00000000e+00, 2.36632209e-11],\n",
       "       [3.24127170e-03, 9.96758728e-01],\n",
       "       [9.99999271e-01, 7.28987881e-07],\n",
       "       [8.72894690e-01, 1.27105310e-01],\n",
       "       [8.08004878e-04, 9.99191995e-01],\n",
       "       [9.92418302e-01, 7.58169842e-03],\n",
       "       [9.56779676e-05, 9.99904322e-01],\n",
       "       [2.36125499e-03, 9.97638745e-01],\n",
       "       [9.99999959e-01, 4.13398571e-08],\n",
       "       [1.45396218e-01, 8.54603782e-01],\n",
       "       [1.65174788e-03, 9.98348252e-01],\n",
       "       [9.99999914e-01, 8.59487388e-08],\n",
       "       [7.09790126e-03, 9.92902099e-01],\n",
       "       [1.09961944e-02, 9.89003806e-01],\n",
       "       [9.99997588e-01, 2.41244320e-06],\n",
       "       [2.78555979e-05, 9.99972144e-01],\n",
       "       [7.94439317e-02, 9.20556068e-01],\n",
       "       [9.99770491e-01, 2.29509039e-04],\n",
       "       [9.99999999e-01, 1.02818934e-09],\n",
       "       [2.62169827e-05, 9.99973783e-01],\n",
       "       [9.57996152e-05, 9.99904200e-01],\n",
       "       [3.49465343e-03, 9.96505347e-01],\n",
       "       [4.93682297e-04, 9.99506318e-01],\n",
       "       [9.49484465e-01, 5.05155350e-02],\n",
       "       [1.50257058e-04, 9.99849743e-01],\n",
       "       [9.99999889e-01, 1.10600021e-07],\n",
       "       [2.73449234e-04, 9.99726551e-01],\n",
       "       [9.98436511e-01, 1.56348882e-03],\n",
       "       [1.44960799e-02, 9.85503920e-01],\n",
       "       [9.99989828e-01, 1.01720834e-05],\n",
       "       [9.65621770e-01, 3.43782302e-02],\n",
       "       [1.00000000e+00, 2.38467178e-11],\n",
       "       [1.00000000e+00, 2.51076450e-11],\n",
       "       [6.72420544e-04, 9.99327579e-01],\n",
       "       [1.07697319e-03, 9.98923027e-01],\n",
       "       [4.49722559e-01, 5.50277441e-01],\n",
       "       [3.31064970e-01, 6.68935030e-01],\n",
       "       [9.50096204e-01, 4.99037955e-02],\n",
       "       [1.00000000e+00, 6.17990801e-12],\n",
       "       [1.33571235e-01, 8.66428765e-01],\n",
       "       [1.03407453e-05, 9.99989659e-01],\n",
       "       [2.20131804e-03, 9.97798682e-01],\n",
       "       [8.69104096e-02, 9.13089590e-01],\n",
       "       [1.55719399e-03, 9.98442806e-01],\n",
       "       [1.19388653e-02, 9.88061135e-01],\n",
       "       [1.50436650e-03, 9.98495633e-01],\n",
       "       [5.27928731e-04, 9.99472071e-01],\n",
       "       [9.99999999e-01, 1.32235153e-09],\n",
       "       [9.87014914e-01, 1.29850862e-02],\n",
       "       [9.39174615e-02, 9.06082539e-01],\n",
       "       [5.11947454e-02, 9.48805255e-01],\n",
       "       [7.12607125e-01, 2.87392875e-01],\n",
       "       [9.99984128e-01, 1.58715210e-05],\n",
       "       [1.00000000e+00, 3.11660906e-12],\n",
       "       [9.99999908e-01, 9.21595105e-08],\n",
       "       [2.72281638e-05, 9.99972772e-01],\n",
       "       [1.59991244e-02, 9.84000876e-01],\n",
       "       [9.05150906e-05, 9.99909485e-01],\n",
       "       [9.99999959e-01, 4.08121712e-08],\n",
       "       [2.84475288e-03, 9.97155247e-01],\n",
       "       [9.74676530e-01, 2.53234699e-02],\n",
       "       [1.18576653e-01, 8.81423347e-01],\n",
       "       [9.99988670e-01, 1.13303426e-05],\n",
       "       [9.99999999e-01, 7.37262427e-10],\n",
       "       [1.00000000e+00, 9.19790498e-13],\n",
       "       [9.99997015e-01, 2.98522402e-06],\n",
       "       [4.28882805e-02, 9.57111720e-01],\n",
       "       [1.43687157e-03, 9.98563128e-01],\n",
       "       [9.99999993e-01, 6.97773766e-09],\n",
       "       [7.60776475e-05, 9.99923922e-01],\n",
       "       [9.99999999e-01, 1.15260163e-09],\n",
       "       [9.94428798e-01, 5.57120237e-03],\n",
       "       [9.99999927e-01, 7.26465236e-08],\n",
       "       [1.86377772e-04, 9.99813622e-01],\n",
       "       [9.85247004e-01, 1.47529964e-02],\n",
       "       [9.99999981e-01, 1.91126643e-08]])"
      ]
     },
     "execution_count": 14,
     "metadata": {},
     "output_type": "execute_result"
    }
   ],
   "source": [
    "confidencevalues = Algo.predict_proba(xtest)\n",
    "confidencevalues"
   ]
  },
  {
   "cell_type": "markdown",
   "metadata": {},
   "source": [
    "the array above contains more arrays of 2 variables <br>\n",
    "for the first pointthe array is :  [2.20051158e-03, 9.97799488e-01]  <br>\n",
    "here 2.20051158e-03 is the confidence propability of our algo that it belongs to 0 <br>\n",
    "9.97799488e-01 is propability that it belongs to 1 , <br>\n",
    "it is visible that it is very confident that it is 1 and <br>he is correct as seen in the confidence_arr the result as first index is 0"
   ]
  },
  {
   "cell_type": "code",
   "execution_count": 15,
   "metadata": {},
   "outputs": [
    {
     "data": {
      "text/plain": [
       "array([0.01016153, 0.98983847])"
      ]
     },
     "execution_count": 15,
     "metadata": {},
     "output_type": "execute_result"
    }
   ],
   "source": [
    "confidencevalues[9]"
   ]
  },
  {
   "cell_type": "markdown",
   "metadata": {},
   "source": [
    "since the prediction is wrong at the 9th index we can see our <br>\n",
    "confidence is also not very high <br>\n",
    "because if confidence is high and ans is wrong its not good lol<br>"
   ]
  },
  {
   "cell_type": "code",
   "execution_count": null,
   "metadata": {},
   "outputs": [],
   "source": []
  }
 ],
 "metadata": {
  "kernelspec": {
   "display_name": "Python 3",
   "language": "python",
   "name": "python3"
  },
  "language_info": {
   "codemirror_mode": {
    "name": "ipython",
    "version": 3
   },
   "file_extension": ".py",
   "mimetype": "text/x-python",
   "name": "python",
   "nbconvert_exporter": "python",
   "pygments_lexer": "ipython3",
   "version": "3.8.5"
  }
 },
 "nbformat": 4,
 "nbformat_minor": 4
}
