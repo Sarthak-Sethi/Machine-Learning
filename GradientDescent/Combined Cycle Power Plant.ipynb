{
 "cells": [
  {
   "cell_type": "markdown",
   "metadata": {},
   "source": [
    "### importing data "
   ]
  },
  {
   "cell_type": "code",
   "execution_count": 58,
   "metadata": {},
   "outputs": [
    {
     "name": "stdout",
     "output_type": "stream",
     "text": [
      "[[   8.58   38.38 1021.03   84.37  482.26]\n",
      " [  21.79   58.2  1017.21   66.74  446.94]\n",
      " [  16.64   48.92 1011.55   78.76  452.56]\n",
      " ...\n",
      " [  29.8    69.34 1009.36   64.74  437.65]\n",
      " [  16.37   54.3  1017.94   63.63  459.97]\n",
      " [  30.11   62.04 1010.69   47.96  444.42]]\n"
     ]
    }
   ],
   "source": [
    "import numpy as np\n",
    "import pandas as pd\n",
    "from sklearn import preprocessing as pp\n",
    "from sklearn.ensemble import GradientBoostingRegressor\n",
    "data = np.loadtxt(\"training_ccpp_x_y_train.csv\",delimiter=\",\")\n",
    "xtest = np.loadtxt(\"test_ccpp_x_test.csv\",delimiter=\",\")\n",
    "print(data)"
   ]
  },
  {
   "cell_type": "markdown",
   "metadata": {},
   "source": [
    "#### fetching x and y"
   ]
  },
  {
   "cell_type": "code",
   "execution_count": 59,
   "metadata": {},
   "outputs": [],
   "source": [
    "x = data[:,0:4]\n",
    "y = data[:,4]"
   ]
  },
  {
   "cell_type": "markdown",
   "metadata": {},
   "source": [
    "## TODO"
   ]
  },
  {
   "cell_type": "code",
   "execution_count": 65,
   "metadata": {},
   "outputs": [],
   "source": [
    "gbr = GradientBoostingRegressor(learning_rate=0.1) #1\n",
    "scaler = pp.StandardScaler() #2\n",
    "scaler.fit(x) # 3\n",
    "x = scaler.transform(x) #4\n",
    "scaler.fit(xtest)\n",
    "xtest = scaler.transform(xtest)\n",
    "gbr.fit(x,y) #5\n",
    "y_pred  = gbr.predict(xtest) #6\n",
    "np.savetxt('ypred_final.csv',y_pred, fmt='%1.5f') #7"
   ]
  },
  {
   "cell_type": "code",
   "execution_count": null,
   "metadata": {},
   "outputs": [],
   "source": []
  },
  {
   "cell_type": "code",
   "execution_count": null,
   "metadata": {},
   "outputs": [],
   "source": []
  }
 ],
 "metadata": {
  "kernelspec": {
   "display_name": "Python 3",
   "language": "python",
   "name": "python3"
  },
  "language_info": {
   "codemirror_mode": {
    "name": "ipython",
    "version": 3
   },
   "file_extension": ".py",
   "mimetype": "text/x-python",
   "name": "python",
   "nbconvert_exporter": "python",
   "pygments_lexer": "ipython3",
   "version": "3.8.5"
  }
 },
 "nbformat": 4,
 "nbformat_minor": 4
}
