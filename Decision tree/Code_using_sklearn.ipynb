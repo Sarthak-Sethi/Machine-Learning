{
 "cells": [
  {
   "cell_type": "markdown",
   "metadata": {},
   "source": [
    "### importing "
   ]
  },
  {
   "cell_type": "code",
   "execution_count": 9,
   "metadata": {},
   "outputs": [],
   "source": [
    "from sklearn import datasets\n",
    "from sklearn.tree import DecisionTreeClassifier\n",
    "from sklearn.model_selection import train_test_split\n",
    "from sklearn.metrics import confusion_matrix"
   ]
  },
  {
   "cell_type": "markdown",
   "metadata": {},
   "source": [
    "### splitting the data"
   ]
  },
  {
   "cell_type": "code",
   "execution_count": 6,
   "metadata": {},
   "outputs": [],
   "source": [
    "iris = datasets.load_iris()\n",
    "xtrain,xtest,ytrain,ytest = train_test_split(iris.data,iris.target,random_state =1)"
   ]
  },
  {
   "cell_type": "markdown",
   "metadata": {},
   "source": [
    "### decision tree algo/classfier fitiing and predicting the values"
   ]
  },
  {
   "cell_type": "code",
   "execution_count": 8,
   "metadata": {},
   "outputs": [
    {
     "data": {
      "text/plain": [
       "array([0, 1, 1, 0, 2, 1, 2, 0, 0, 2, 1, 0, 2, 1, 1, 0, 1, 1, 0, 0, 1, 1,\n",
       "       2, 0, 2, 1, 0, 0, 1, 2, 1, 2, 1, 2, 2, 0, 1, 0])"
      ]
     },
     "execution_count": 8,
     "metadata": {},
     "output_type": "execute_result"
    }
   ],
   "source": [
    "clf = DecisionTreeClassifier()\n",
    "clf.fit(xtrain,ytrain)\n",
    "ypred_train = clf.predict(xtrain)\n",
    "ypred_test = clf.predict(xtest)\n",
    "ypred_test"
   ]
  },
  {
   "cell_type": "markdown",
   "metadata": {},
   "source": [
    "### confusion matrix for the predictions (actual,predicted)\n",
    "we have got 100% accuracy for training data and only 1 prediction was wrong in testing too"
   ]
  },
  {
   "cell_type": "code",
   "execution_count": 11,
   "metadata": {},
   "outputs": [
    {
     "name": "stdout",
     "output_type": "stream",
     "text": [
      "Confusin matrix for training data\n",
      "[[37  0  0]\n",
      " [ 0 34  0]\n",
      " [ 0  0 41]]\n",
      "Confusin matrix for testing data\n",
      "[[13  0  0]\n",
      " [ 0 15  1]\n",
      " [ 0  0  9]]\n"
     ]
    }
   ],
   "source": [
    "print(\"Confusin matrix for training data\")\n",
    "print(confusion_matrix(ytrain,ypred_train))\n",
    "print(\"Confusin matrix for testing data\")\n",
    "print(confusion_matrix(ytest,ypred_test))"
   ]
  },
  {
   "cell_type": "markdown",
   "metadata": {},
   "source": [
    "## using pydotplus and export_graphviz to plot the decision tree and export in a pdf file\n",
    "we need to modules as below for it\n",
    "rounder=True makes the box round\n",
    "and filled colors the boxes"
   ]
  },
  {
   "cell_type": "code",
   "execution_count": 12,
   "metadata": {},
   "outputs": [],
   "source": [
    "from sklearn.tree import export_graphviz\n",
    "import pydotplus"
   ]
  },
  {
   "cell_type": "code",
   "execution_count": 20,
   "metadata": {},
   "outputs": [
    {
     "name": "stdout",
     "output_type": "stream",
     "text": [
      "digraph Tree {\n",
      "node [shape=box, style=\"filled, rounded\", color=\"black\", fontname=helvetica] ;\n",
      "edge [fontname=helvetica] ;\n",
      "0 [label=\"petal width (cm) <= 0.8\\ngini = 0.665\\nsamples = 112\\nvalue = [37, 34, 41]\\nclass = virginica\", fillcolor=\"#f8f4fe\"] ;\n",
      "1 [label=\"gini = 0.0\\nsamples = 37\\nvalue = [37, 0, 0]\\nclass = setosa\", fillcolor=\"#e58139\"] ;\n",
      "0 -> 1 [labeldistance=2.5, labelangle=45, headlabel=\"True\"] ;\n",
      "2 [label=\"petal width (cm) <= 1.65\\ngini = 0.496\\nsamples = 75\\nvalue = [0, 34, 41]\\nclass = virginica\", fillcolor=\"#e9ddfb\"] ;\n",
      "0 -> 2 [labeldistance=2.5, labelangle=-45, headlabel=\"False\"] ;\n",
      "3 [label=\"petal length (cm) <= 4.95\\ngini = 0.193\\nsamples = 37\\nvalue = [0, 33, 4]\\nclass = versicolor\", fillcolor=\"#51e890\"] ;\n",
      "2 -> 3 ;\n",
      "4 [label=\"gini = 0.0\\nsamples = 32\\nvalue = [0, 32, 0]\\nclass = versicolor\", fillcolor=\"#39e581\"] ;\n",
      "3 -> 4 ;\n",
      "5 [label=\"sepal length (cm) <= 6.05\\ngini = 0.32\\nsamples = 5\\nvalue = [0, 1, 4]\\nclass = virginica\", fillcolor=\"#a06aec\"] ;\n",
      "3 -> 5 ;\n",
      "6 [label=\"petal width (cm) <= 1.55\\ngini = 0.5\\nsamples = 2\\nvalue = [0, 1, 1]\\nclass = versicolor\", fillcolor=\"#ffffff\"] ;\n",
      "5 -> 6 ;\n",
      "7 [label=\"gini = 0.0\\nsamples = 1\\nvalue = [0, 0, 1]\\nclass = virginica\", fillcolor=\"#8139e5\"] ;\n",
      "6 -> 7 ;\n",
      "8 [label=\"gini = 0.0\\nsamples = 1\\nvalue = [0, 1, 0]\\nclass = versicolor\", fillcolor=\"#39e581\"] ;\n",
      "6 -> 8 ;\n",
      "9 [label=\"gini = 0.0\\nsamples = 3\\nvalue = [0, 0, 3]\\nclass = virginica\", fillcolor=\"#8139e5\"] ;\n",
      "5 -> 9 ;\n",
      "10 [label=\"petal length (cm) <= 4.85\\ngini = 0.051\\nsamples = 38\\nvalue = [0, 1, 37]\\nclass = virginica\", fillcolor=\"#843ee6\"] ;\n",
      "2 -> 10 ;\n",
      "11 [label=\"sepal width (cm) <= 3.1\\ngini = 0.375\\nsamples = 4\\nvalue = [0, 1, 3]\\nclass = virginica\", fillcolor=\"#ab7bee\"] ;\n",
      "10 -> 11 ;\n",
      "12 [label=\"gini = 0.0\\nsamples = 3\\nvalue = [0, 0, 3]\\nclass = virginica\", fillcolor=\"#8139e5\"] ;\n",
      "11 -> 12 ;\n",
      "13 [label=\"gini = 0.0\\nsamples = 1\\nvalue = [0, 1, 0]\\nclass = versicolor\", fillcolor=\"#39e581\"] ;\n",
      "11 -> 13 ;\n",
      "14 [label=\"gini = 0.0\\nsamples = 34\\nvalue = [0, 0, 34]\\nclass = virginica\", fillcolor=\"#8139e5\"] ;\n",
      "10 -> 14 ;\n",
      "}\n"
     ]
    }
   ],
   "source": [
    "dot_data = export_graphviz(clf,out_file=None,\n",
    "                           feature_names=iris.feature_names,\n",
    "                           class_names=iris.target_names,\n",
    "                           rounded=True,\n",
    "                           filled=True)\n",
    "print(dot_data)"
   ]
  },
  {
   "cell_type": "code",
   "execution_count": 21,
   "metadata": {},
   "outputs": [
    {
     "data": {
      "text/plain": [
       "True"
      ]
     },
     "execution_count": 21,
     "metadata": {},
     "output_type": "execute_result"
    }
   ],
   "source": [
    "graph = pydotplus.graph_from_dot_data(dot_data)\n",
    "graph.write_pdf(\"iris_decision_tree.pdf\")"
   ]
  },
  {
   "cell_type": "code",
   "execution_count": null,
   "metadata": {},
   "outputs": [],
   "source": []
  }
 ],
 "metadata": {
  "kernelspec": {
   "display_name": "Python 3",
   "language": "python",
   "name": "python3"
  },
  "language_info": {
   "codemirror_mode": {
    "name": "ipython",
    "version": 3
   },
   "file_extension": ".py",
   "mimetype": "text/x-python",
   "name": "python",
   "nbconvert_exporter": "python",
   "pygments_lexer": "ipython3",
   "version": "3.8.5"
  }
 },
 "nbformat": 4,
 "nbformat_minor": 4
}
