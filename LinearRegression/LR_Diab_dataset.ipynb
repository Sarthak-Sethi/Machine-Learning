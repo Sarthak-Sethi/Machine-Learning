{
 "cells": [
  {
   "cell_type": "code",
   "execution_count": 24,
   "metadata": {},
   "outputs": [
    {
     "data": {
      "text/plain": [
       "(331,)"
      ]
     },
     "execution_count": 24,
     "metadata": {},
     "output_type": "execute_result"
    }
   ],
   "source": [
    "import numpy as np\n",
    "data = np.genfromtxt(\"../CSV_files_for_practise/diabetes_x_y_train.csv\", delimiter=\",\")\n",
    "data\n",
    "x = data[:,0:10]\n",
    "y = data[:, 10]\n",
    "x.shape\n",
    "y.shape"
   ]
  },
  {
   "cell_type": "code",
   "execution_count": 25,
   "metadata": {},
   "outputs": [
    {
     "name": "stdout",
     "output_type": "stream",
     "text": [
      "m :  [  21.73408096 -256.66866675  569.60940087  303.63233545 -833.11088526\n",
      "  525.74313633  136.07129167  140.89458927  731.44498492   53.32119133]\n",
      "c :  150.702574894566\n"
     ]
    }
   ],
   "source": [
    "from sklearn.linear_model import LinearRegression\n",
    "algo = LinearRegression()\n",
    "algo.fit(x,y);\n",
    "m = algo.coef_\n",
    "c = algo.intercept_\n",
    "print(\"m : \",m)\n",
    "print(\"c : \",c)"
   ]
  },
  {
   "cell_type": "code",
   "execution_count": 30,
   "metadata": {},
   "outputs": [],
   "source": [
    "xtest = np.genfromtxt(\"../CSV_files_for_practise/diabetes_x_test.csv\", delimiter=\",\")\n",
    "xtest.shape\n",
    "ypredicted = algo.predict(xtest)\n",
    "#print(\"y predicted : \",ypredicted)"
   ]
  },
  {
   "cell_type": "code",
   "execution_count": 33,
   "metadata": {},
   "outputs": [
    {
     "data": {
      "text/plain": [
       "(111, 1)"
      ]
     },
     "execution_count": 33,
     "metadata": {},
     "output_type": "execute_result"
    }
   ],
   "source": [
    "# rounding upto 5 decimal and making it of 1  column\n",
    "ypredicted = np.round(ypredicted, decimals=5)\n",
    "ypredicted = ypredicted.reshape(-1,1)\n",
    "ypredicted.shape\n",
    "ypredicted"
   ]
  },
  {
   "cell_type": "code",
   "execution_count": 29,
   "metadata": {},
   "outputs": [
    {
     "data": {
      "text/plain": [
       "0.4957208055805604"
      ]
     },
     "execution_count": 29,
     "metadata": {},
     "output_type": "execute_result"
    }
   ],
   "source": [
    "algo.score(x,y)"
   ]
  },
  {
   "cell_type": "code",
   "execution_count": 35,
   "metadata": {},
   "outputs": [
    {
     "data": {
      "text/plain": [
       "array([[105.52975],\n",
       "       [105.80392],\n",
       "       [178.60857],\n",
       "       [ 79.38288],\n",
       "       [ 52.95869],\n",
       "       [ 98.87264],\n",
       "       [150.71755],\n",
       "       [ 34.86515],\n",
       "       [113.13536],\n",
       "       [161.50184],\n",
       "       [135.86156],\n",
       "       [ 94.71592],\n",
       "       [138.48094],\n",
       "       [141.37442],\n",
       "       [158.76863],\n",
       "       [171.65289],\n",
       "       [106.44836],\n",
       "       [103.9266 ],\n",
       "       [ 95.38694],\n",
       "       [167.40118],\n",
       "       [166.53426],\n",
       "       [101.53465],\n",
       "       [252.45036],\n",
       "       [147.02259],\n",
       "       [214.78907],\n",
       "       [161.27557],\n",
       "       [210.61315],\n",
       "       [ 71.78092],\n",
       "       [189.65032],\n",
       "       [206.61343],\n",
       "       [219.98643],\n",
       "       [168.80193],\n",
       "       [116.84846],\n",
       "       [178.744  ],\n",
       "       [ 77.03247],\n",
       "       [ 59.54633],\n",
       "       [111.56738],\n",
       "       [156.95187],\n",
       "       [154.59591],\n",
       "       [198.94457],\n",
       "       [115.53884],\n",
       "       [153.46699],\n",
       "       [ 84.9618 ],\n",
       "       [113.70337],\n",
       "       [142.14156],\n",
       "       [147.3104 ],\n",
       "       [ 82.78072],\n",
       "       [ 77.89237],\n",
       "       [128.99006],\n",
       "       [261.58712],\n",
       "       [213.31188],\n",
       "       [243.98791],\n",
       "       [167.68132],\n",
       "       [183.69712],\n",
       "       [166.85927],\n",
       "       [202.1144 ],\n",
       "       [220.39236],\n",
       "       [172.40288],\n",
       "       [176.60898],\n",
       "       [109.04657],\n",
       "       [276.3779 ],\n",
       "       [ 90.99942],\n",
       "       [289.37221],\n",
       "       [119.56253],\n",
       "       [ 75.45688],\n",
       "       [180.78599],\n",
       "       [146.62093],\n",
       "       [156.42382],\n",
       "       [ 41.07904],\n",
       "       [247.90645],\n",
       "       [207.99121],\n",
       "       [ 90.09641],\n",
       "       [222.2417 ],\n",
       "       [189.86378],\n",
       "       [182.26954],\n",
       "       [164.39881],\n",
       "       [190.27067],\n",
       "       [105.44868],\n",
       "       [199.86136],\n",
       "       [245.79639],\n",
       "       [123.20281],\n",
       "       [119.41032],\n",
       "       [145.8662 ],\n",
       "       [206.19247],\n",
       "       [150.86282],\n",
       "       [142.23222],\n",
       "       [154.56875],\n",
       "       [115.29233],\n",
       "       [134.0781 ],\n",
       "       [118.42225],\n",
       "       [203.57676],\n",
       "       [170.66484],\n",
       "       [127.4098 ],\n",
       "       [ 57.13508],\n",
       "       [231.92227],\n",
       "       [185.20714],\n",
       "       [187.37495],\n",
       "       [ 83.55921],\n",
       "       [185.42586],\n",
       "       [217.34036],\n",
       "       [108.86715],\n",
       "       [ 80.98715],\n",
       "       [127.05524],\n",
       "       [242.00739],\n",
       "       [155.97234],\n",
       "       [125.67575],\n",
       "       [246.41236],\n",
       "       [234.96393],\n",
       "       [191.51298],\n",
       "       [168.33254],\n",
       "       [163.02965]])"
      ]
     },
     "execution_count": 35,
     "metadata": {},
     "output_type": "execute_result"
    }
   ],
   "source": [
    "ypredicted"
   ]
  },
  {
   "cell_type": "code",
   "execution_count": 39,
   "metadata": {},
   "outputs": [],
   "source": [
    "# saving the output\n",
    "np.savetxt('ypredicted_for_diab.csv', ypredicted, delimiter=',')"
   ]
  },
  {
   "cell_type": "code",
   "execution_count": null,
   "metadata": {},
   "outputs": [],
   "source": []
  }
 ],
 "metadata": {
  "kernelspec": {
   "display_name": "Python 3",
   "language": "python",
   "name": "python3"
  },
  "language_info": {
   "codemirror_mode": {
    "name": "ipython",
    "version": 3
   },
   "file_extension": ".py",
   "mimetype": "text/x-python",
   "name": "python",
   "nbconvert_exporter": "python",
   "pygments_lexer": "ipython3",
   "version": "3.8.5"
  }
 },
 "nbformat": 4,
 "nbformat_minor": 4
}
