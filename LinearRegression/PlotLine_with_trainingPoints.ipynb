{
 "cells": [
  {
   "cell_type": "code",
   "execution_count": 1,
   "metadata": {},
   "outputs": [],
   "source": [
    "# LOADING DATA \n",
    "import pandas as pd\n",
    "data = pd.read_csv(\"file:///D:/ML/CSV%20_files_for_practise/data.csv\")\n",
    "data.columns =[\"x\",\"y\"]\n",
    "x=data.x\n",
    " # OR"
   ]
  },
  {
   "cell_type": "code",
   "execution_count": 43,
   "metadata": {},
   "outputs": [],
   "source": [
    "# LOADING DATA WAY 2\n",
    "#import numpy as np\n",
    "#data = np.loadtxt(\"D:/ML/CSV%20_files_for_practise/data.csv\")\n",
    "#x = data[:,0]\n"
   ]
  },
  {
   "cell_type": "code",
   "execution_count": 2,
   "metadata": {},
   "outputs": [
    {
     "data": {
      "text/plain": [
       "(99,)"
      ]
     },
     "execution_count": 2,
     "metadata": {},
     "output_type": "execute_result"
    }
   ],
   "source": [
    "# SHAPE OF DATA\n",
    "# the shape is a 1d array of 99 rows\n",
    "x.shape"
   ]
  },
  {
   "cell_type": "code",
   "execution_count": 2,
   "metadata": {},
   "outputs": [
    {
     "name": "stdout",
     "output_type": "stream",
     "text": [
      "(74,)\n",
      "(74,)\n",
      "(25,)\n",
      "(25,)\n"
     ]
    }
   ],
   "source": [
    "from sklearn import model_selection as ms\n",
    "y = data.y\n",
    "xtrain,xtest,ytrain,ytest = ms.train_test_split(x,y)\n",
    "print(xtrain.shape)\n",
    "print(ytrain.shape)\n",
    "print(xtest.shape)\n",
    "print(ytest.shape)\n",
    "# the explanation is in intro_toML_bostonDataset"
   ]
  },
  {
   "cell_type": "code",
   "execution_count": 3,
   "metadata": {},
   "outputs": [
    {
     "data": {
      "text/plain": [
       "(74, 1)"
      ]
     },
     "execution_count": 3,
     "metadata": {},
     "output_type": "execute_result"
    }
   ],
   "source": [
    "import numpy as np\n",
    "xtrain_in_2d = np.array(xtrain)\n",
    "xtrain_in_2d = xtrain_in_2d.reshape(-1,1)\n",
    "# reshape(-1,1) Meaning that you do not have to specify an exact number for one of the dimensions in the reshape method.\n",
    "#Pass -1 as the value, and NumPy will calculate this number for you.\n",
    "xtrain_in_2d.shape\n",
    "# as algo.fit takes x as minimum 2d array and no less than that we convert our 1d array into 2d array"
   ]
  },
  {
   "cell_type": "code",
   "execution_count": 4,
   "metadata": {},
   "outputs": [
    {
     "data": {
      "text/plain": [
       "(array([1.19585243]), 14.501707332657503)"
      ]
     },
     "execution_count": 4,
     "metadata": {},
     "output_type": "execute_result"
    }
   ],
   "source": [
    "from sklearn.linear_model import LinearRegression\n",
    "algo = LinearRegression()\n",
    "# here ytrain is output which was in 1d and is supposed to be in 1d so all good !\n",
    "algo.fit(xtrain_in_2d,ytrain);\n",
    "# m and c below are y - mx+ c\n",
    "m= algo.coef_\n",
    "c = algo.intercept_\n",
    "m,c"
   ]
  },
  {
   "cell_type": "code",
   "execution_count": 6,
   "metadata": {},
   "outputs": [
    {
     "data": {
      "image/png": "[encoded data removed]",
      "text/plain": [
       "<Figure size 432x288 with 1 Axes>"
      ]
     },
     "metadata": {
      "needs_background": "light"
     },
     "output_type": "display_data"
    }
   ],
   "source": [
    "import matplotlib.pyplot as plt\n",
    "# below line plots all trining points\n",
    "plt.scatter(xtrain_in_2d.reshape(74),ytrain)\n",
    "# we said x should start from 30 and till 70 as scatterting of training points start and end from there\n",
    "xline= np.arange(30,70,0.1)\n",
    "# finding y using m and c calcelated by our algo and \n",
    "yline = m*xline+c\n",
    "# plotting the line in red color\n",
    "plt.plot(xline,yline,\"red\",)\n",
    "plt.title(\"line and training data points\")\n",
    "plt.show()"
   ]
  },
  {
   "cell_type": "code",
   "execution_count": 7,
   "metadata": {},
   "outputs": [
    {
     "data": {
      "image/png": "[encoded data removed]",
      "text/plain": [
       "<Figure size 432x288 with 1 Axes>"
      ]
     },
     "metadata": {
      "needs_background": "light"
     },
     "output_type": "display_data"
    }
   ],
   "source": [
    "# the above graph was for training data\n",
    "# the below graph is for testing data\n",
    "plt.scatter(xtest,ytest)\n",
    "xline= np.arange(30,70,0.1)\n",
    "yline = m*xline+c\n",
    "plt.plot(xline,yline,\"red\")\n",
    "plt.title(\"line and testing data points\")\n",
    "plt.show()"
   ]
  },
  {
   "cell_type": "code",
   "execution_count": 11,
   "metadata": {},
   "outputs": [
    {
     "data": {
      "text/plain": [
       "0.48439517071296967"
      ]
     },
     "execution_count": 11,
     "metadata": {},
     "output_type": "execute_result"
    }
   ],
   "source": [
    "xtest_in_2d = np.array(xtest)\n",
    "xtest_in_2d = xtest_in_2d.reshape(-1,1)\n",
    "scoretest = algo.score(xtest_in_2d,ytest)\n",
    "scoretest"
   ]
  },
  {
   "cell_type": "code",
   "execution_count": null,
   "metadata": {},
   "outputs": [],
   "source": []
  }
 ],
 "metadata": {
  "kernelspec": {
   "display_name": "Python 3",
   "language": "python",
   "name": "python3"
  },
  "language_info": {
   "codemirror_mode": {
    "name": "ipython",
    "version": 3
   },
   "file_extension": ".py",
   "mimetype": "text/x-python",
   "name": "python",
   "nbconvert_exporter": "python",
   "pygments_lexer": "ipython3",
   "version": "3.8.5"
  }
 },
 "nbformat": 4,
 "nbformat_minor": 4
}
