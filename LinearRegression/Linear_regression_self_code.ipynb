{
 "cells": [
  {
   "cell_type": "code",
   "execution_count": 5,
   "metadata": {},
   "outputs": [],
   "source": [
    "# reading and splitinng data in test and train\n",
    "import numpy as np\n",
    "import pandas as pd\n",
    "from sklearn import model_selection as ms\n",
    "data = pd.read_csv(\"file:///D:/ML/CSV%20_files_for_practise/data.csv\")\n",
    "data.columns =[\"x\",\"y\"]\n",
    "x=data.x\n",
    "y = data.y\n",
    "xtrain,xtest,ytrain,ytest = ms.train_test_split(x,y)"
   ]
  },
  {
   "cell_type": "code",
   "execution_count": 7,
   "metadata": {},
   "outputs": [],
   "source": [
    "xtrain = np.array(xtrain)\n",
    "ytrain = np.array(ytrain)"
   ]
  },
  {
   "cell_type": "code",
   "execution_count": 17,
   "metadata": {},
   "outputs": [
    {
     "name": "stdout",
     "output_type": "stream",
     "text": [
      "m self written : 1.255656338018892\n",
      "c self written : 11.935936011426165\n",
      "m buiilt in : [1.25565634]\n",
      "c built in : 11.935936011426207\n"
     ]
    }
   ],
   "source": [
    "# code for fit function written\n",
    "# formula in copy for m and c \n",
    "# used derivative with m and then c \n",
    "def fit(xtrain,ytrain):\n",
    "    numfor_m = (xtrain*ytrain).mean() - ytrain.mean()*xtrain.mean()\n",
    "    denfor_m = (xtrain**2).mean() - xtrain.mean()**2\n",
    "    m_self =numfor_m/denfor_m\n",
    "    c_self = ytrain.mean() - m*xtrain.mean()\n",
    "    return m,c\n",
    "m_self,c_self = fit(xtrain,ytrain)\n",
    "\n",
    "# calculating m and c by buiilt in algo to validate the answer\n",
    "# for code below explanation is in PlotLine_with_trainingPoints\n",
    "xtrain_in_2d = np.array(xtrain)\n",
    "xtrain_in_2d = xtrain_in_2d.reshape(-1,1)\n",
    "from sklearn.linear_model import LinearRegression\n",
    "algo = LinearRegression()\n",
    "algo.fit(xtrain_in_2d,ytrain);\n",
    "m_built_in= algo.coef_\n",
    "c_built_in = algo.intercept_\n",
    "\n",
    "print(\"m self written :\",m_self)\n",
    "print(\"c self written :\",c_self)\n",
    "print(\"m buiilt in :\",m_built_in)\n",
    "print(\"c built in :\",c_built_in)\n"
   ]
  },
  {
   "cell_type": "code",
   "execution_count": 10,
   "metadata": {},
   "outputs": [
    {
     "data": {
      "text/plain": [
       "36    53.490416\n",
       "78    60.849739\n",
       "71    70.552772\n",
       "21    71.556017\n",
       "23    77.035674\n",
       "62    74.888876\n",
       "3     87.040770\n",
       "85    76.085811\n",
       "5     77.496009\n",
       "13    83.165814\n",
       "87    67.450690\n",
       "52    64.322768\n",
       "38    59.243611\n",
       "27    70.622324\n",
       "8     77.920695\n",
       "59    63.646396\n",
       "25    83.897605\n",
       "72    66.064544\n",
       "93    97.721574\n",
       "10    80.182911\n",
       "68    56.735361\n",
       "95    73.764159\n",
       "64    61.607065\n",
       "58    63.546783\n",
       "49    59.801335\n",
       "Name: x, dtype: float64"
      ]
     },
     "execution_count": 10,
     "metadata": {},
     "output_type": "execute_result"
    }
   ],
   "source": [
    "# coding the predict function\n",
    "# formula = we need to return y by using m and c so use y= mx+c\n",
    "def predict(xtest,m,c):\n",
    "    ypredicted= m*xtest + c\n",
    "    return ypredicted\n",
    "ypredicted = predict(xtest,m,c)\n",
    "print(ypredicted)"
   ]
  },
  {
   "cell_type": "code",
   "execution_count": 19,
   "metadata": {},
   "outputs": [
    {
     "name": "stdout",
     "output_type": "stream",
     "text": [
      "Score built in :  0.6243314788836654\n",
      "Score self written : 0.6243314788836654\n"
     ]
    }
   ],
   "source": [
    "# coding the score function \n",
    "# formula = 1-(u/v)\n",
    "def score(ypredicted,ytest):\n",
    "    u=((ytest-ypredicted)**2).sum()\n",
    "    v=((ytest - ytest.mean())**2).sum()\n",
    "    score = 1 - (u/v)\n",
    "    return score\n",
    "score = score(ypredicted,ytest)\n",
    "\n",
    "## calculating score by buiilt in algo to validate the answer\n",
    "# for code below explanation is in PlotLine_with_trainingPoints\n",
    "xtest_in_2d = np.array(xtest)\n",
    "xtest_in_2d = xtest_in_2d.reshape(-1,1)\n",
    "scoretest = algo.score(xtest_in_2d,ytest)\n",
    "\n",
    "\n",
    "print(\"Score built in : \",scoretest)\n",
    "print(\"Score self written :\",score)\n",
    "    "
   ]
  },
  {
   "cell_type": "code",
   "execution_count": 22,
   "metadata": {},
   "outputs": [
    {
     "name": "stdout",
     "output_type": "stream",
     "text": [
      "Cost of training data : 118.89602944659443\n"
     ]
    }
   ],
   "source": [
    "# coding the cost function\n",
    "# formula summation of (y-m*x+c)**2 \n",
    "# we may also use 1/n summation of ((y-m*x+c)**2)\n",
    "def cost(x,y,m,c):\n",
    "    return ((y-m*x-c)**2).mean()\n",
    "\n",
    "print(\"Cost of training data :\" ,cost(xtrain,ytrain,m_self,c_self))"
   ]
  },
  {
   "cell_type": "code",
   "execution_count": null,
   "metadata": {},
   "outputs": [],
   "source": []
  }
 ],
 "metadata": {
  "kernelspec": {
   "display_name": "Python 3",
   "language": "python",
   "name": "python3"
  },
  "language_info": {
   "codemirror_mode": {
    "name": "ipython",
    "version": 3
   },
   "file_extension": ".py",
   "mimetype": "text/x-python",
   "name": "python",
   "nbconvert_exporter": "python",
   "pygments_lexer": "ipython3",
   "version": "3.8.5"
  }
 },
 "nbformat": 4,
 "nbformat_minor": 4
}
